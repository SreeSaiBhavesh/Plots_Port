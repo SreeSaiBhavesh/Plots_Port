{
 "cells": [
  {
   "cell_type": "code",
   "execution_count": 100,
   "id": "aa570ffd",
   "metadata": {},
   "outputs": [],
   "source": [
    "import numpy as np\n",
    "import pandas as pd\n",
    "import matplotlib.pyplot as plt\n",
    "from chart_studio.plotly import plotly as py\n",
    "import plotly.offline as po\n",
    "import cufflinks as cf\n",
    "import plotly.express as px\n",
    "%matplotlib inline"
   ]
  },
  {
   "cell_type": "code",
   "execution_count": 101,
   "id": "736a08e4",
   "metadata": {},
   "outputs": [
    {
     "data": {
      "text/html": [
       "        <script type=\"text/javascript\">\n",
       "        window.PlotlyConfig = {MathJaxConfig: 'local'};\n",
       "        if (window.MathJax && window.MathJax.Hub && window.MathJax.Hub.Config) {window.MathJax.Hub.Config({SVG: {font: \"STIX-Web\"}});}\n",
       "        if (typeof require !== 'undefined') {\n",
       "        require.undef(\"plotly\");\n",
       "        requirejs.config({\n",
       "            paths: {\n",
       "                'plotly': ['https://cdn.plot.ly/plotly-2.16.1.min']\n",
       "            }\n",
       "        });\n",
       "        require(['plotly'], function(Plotly) {\n",
       "            window._Plotly = Plotly;\n",
       "        });\n",
       "        }\n",
       "        </script>\n",
       "        "
      ]
     },
     "metadata": {},
     "output_type": "display_data"
    },
    {
     "data": {
      "text/html": [
       "        <script type=\"text/javascript\">\n",
       "        window.PlotlyConfig = {MathJaxConfig: 'local'};\n",
       "        if (window.MathJax && window.MathJax.Hub && window.MathJax.Hub.Config) {window.MathJax.Hub.Config({SVG: {font: \"STIX-Web\"}});}\n",
       "        if (typeof require !== 'undefined') {\n",
       "        require.undef(\"plotly\");\n",
       "        requirejs.config({\n",
       "            paths: {\n",
       "                'plotly': ['https://cdn.plot.ly/plotly-2.16.1.min']\n",
       "            }\n",
       "        });\n",
       "        require(['plotly'], function(Plotly) {\n",
       "            window._Plotly = Plotly;\n",
       "        });\n",
       "        }\n",
       "        </script>\n",
       "        "
      ]
     },
     "metadata": {},
     "output_type": "display_data"
    }
   ],
   "source": [
    "po.init_notebook_mode(connected=True)\n",
    "cf.go_offline()"
   ]
  },
  {
   "cell_type": "markdown",
   "id": "df14da4c",
   "metadata": {},
   "source": [
    "**Steps**\n",
    "1. Data Creation\n",
    "    - Random data\n",
    "    - Customize - input rows and columns\n",
    "    - file input\n",
    "    - failure - work on error\n",
    "\n",
    "2. Input for category of plot\n",
    "    - failure - work on error\n",
    "3. Based on category\n",
    "    - full data\n",
    "        - different plots \n",
    "    - specific columns\n",
    "        - columns specification\n",
    "        - different plots for columns selected"
   ]
  },
  {
   "cell_type": "code",
   "execution_count": 102,
   "id": "83d6c6be",
   "metadata": {},
   "outputs": [],
   "source": [
    "def createData(data):\n",
    "    if(data == 1):\n",
    "        print('Enter no of rows you want')\n",
    "        nrows = int(input())\n",
    "        print('Enter no of columns you want')\n",
    "        ncol = int(input())\n",
    "        d = np.random.rand(nrows,ncol)\n",
    "        x = [0 for i in range(ncol)]\n",
    "        for i in range(ncol):\n",
    "            print('Please give Column',i,'name')\n",
    "            x[i] = input()\n",
    "        df1 = pd.DataFrame(d,columns=x)\n",
    "    elif(data==2):\n",
    "        print('Enter no of rows')\n",
    "        nrows = int(input())\n",
    "        print('Enter no of columns')\n",
    "        ncol = int(input())\n",
    "        print('Enter the value for columns')\n",
    "        x = [0]*ncol\n",
    "        \n",
    "        arr = [[0 for i in range(ncol)] for j in range(nrows)]\n",
    "  \n",
    "        for i in range(ncol):\n",
    "            x[i] = input()\n",
    "\n",
    "        for i in range(0,nrows):\n",
    "            for j in range(0,ncol):\n",
    "                print('Enter the value for',i, 'row')\n",
    "                arr[i][j] = input()\n",
    "                j = j+1\n",
    "            i = i+1\n",
    "                \n",
    "        \n",
    "        df1 = pd.DataFrame(arr, columns = x)\n",
    "    elif(data==3):\n",
    "        file = input('Enter the file name')\n",
    "        x = pd.read_csv(file)\n",
    "        df1 = pd.DataFrame(x)\n",
    "    else:\n",
    "        print('DataFrame creation failed, please enter valid number in 1,2,3 and try again!')\n",
    "    return df1"
   ]
  },
  {
   "cell_type": "code",
   "execution_count": 103,
   "id": "69197a23",
   "metadata": {},
   "outputs": [],
   "source": [
    "def plotter(plot):\n",
    "    if(plot==1):\n",
    "        finalPlot = df1.iplot(kind='scatter')\n",
    "    elif(plot==2):\n",
    "        finalPlot = df1.iplot(kind='scatter',mode='markers',colorscale='paired')\n",
    "    elif(plot==3):\n",
    "        finalPlot = df1.iplot(kind='bar')\n",
    "    elif(plot==4):\n",
    "        finalPlot = df1.iplot(kind='hist')\n",
    "    elif(plot==5):\n",
    "        finalPlot = df1.iplot(kind='box')\n",
    "    elif(plot==6):\n",
    "        finalPlot = df1.iplot(kind='surface')\n",
    "    else:\n",
    "        finalPlot = print('Select only between 1 to 6')\n",
    "    return finalPlot\n",
    "    \n",
    "    \n",
    "# def plotter2(plot):\n",
    "#     col = input('Enter the number of columns you want to plot by selecting 1, 2 or 3')\n",
    "#     col = int(col)\n",
    "#     if(col==1):\n",
    "#         colm = input('Enter the column name you want to plot by selecting any column from dataframe')\n",
    "#         if(plot==1):\n",
    "#             finalPlot = df1[colm].iplot(kind='scatter')\n",
    "#         elif(plot==2):\n",
    "#             finalPlot = df1[colm].iplot(kind='scatter', mode='markers',colorscale='paired')\n",
    "#         elif(plot==3):\n",
    "#             finalPlot = df1[colm].iplot(kind='bar')\n",
    "#         elif(plot==4):\n",
    "#             finalPlot = df1[colm].iplot(kind='hist')\n",
    "#         elif(plot==5):\n",
    "#             finalPlot = df1[colm].iplot(kind='box')\n",
    "#         elif(plot==6 or plot==7):\n",
    "#             finalPlot = print(\"Bubble Plot and Surface Plot requires more than 1 column arguments\")\n",
    "#         else:\n",
    "#             finalPlot = print('Select only between 1 to 7')\n",
    "            \n",
    "#     elif(col==2):\n",
    "#         print('Enter the columns you want to want form the dataFrame')\n",
    "#         x = input('First column')\n",
    "#         y = input('Second column')\n",
    "#         if(plot==1):\n",
    "#             finalPlot = df1[[x,y]].iplot(kind='scatter')\n",
    "#         elif(plot==2):\n",
    "#             finalPlot = df1[[x,y]].iplot(kind='scatter', mode='markers',colorscale='paired')\n",
    "#         elif(plot==3):\n",
    "#             finalPlot = df1[[x,y]].iplot(kind='bar')\n",
    "#         elif(plot==4):\n",
    "#             finalPlot = df1[[x,y]].iplot(kind='hist')\n",
    "#         elif(plot==5):\n",
    "#             finalPlot = df1[[x,y]].iplot(kind='box')\n",
    "#         elif(plot==6):\n",
    "#             finalPlot = df1[[x,y]].iplot(kind='surface')\n",
    "#         elif(plot==7):\n",
    "#             size = input('Please enter the size column for bubble plot')\n",
    "#             finalPlot = df1.iplot(kind='bubble',x=x,y=y,size=size)\n",
    "#         else:\n",
    "#             finalPlot = print('Select type of plot only between 1 to 7')\n",
    "            \n",
    "#     elif(col==3):\n",
    "#         print('Enter the columns you want to want form the dataFrame')\n",
    "#         x = input('First column')\n",
    "#         y = input('Second column')\n",
    "#         z = input('Third column')\n",
    "#         if(plot==1):\n",
    "#             finalPlot = df1[[x,y,z]].iplot(kind='scatter')\n",
    "#         elif(plot==2):\n",
    "#             finalPlot = df1[[x,y,z]].iplot(kind='scatter', mode='markers',colorscale='paired')\n",
    "#         elif(plot==3):\n",
    "#             finalPlot = df1[[x,y,z]].iplot(kind='bar')\n",
    "#         elif(plot==4):\n",
    "#             finalPlot = df1[[x,y,z]].iplot(kind='hist')\n",
    "#         elif(plot==5):\n",
    "#             finalPlot = df1[[x,y,z]].iplot(kind='box')\n",
    "#         elif(plot==6):\n",
    "#             finalPlot = df1[[x,y,z]].iplot(kind='surface')\n",
    "#         elif(plot==7):\n",
    "#             size = input('Please enter the size column for bubble plot')\n",
    "#             finalPlot = df1.iplot(kind='bubble',x=x,y=y,z=z,size=size)\n",
    "#         else:\n",
    "#             finalPlot = print('Select only between 1 to 7')\n",
    "#     else:\n",
    "#         finalPlot = print('Please enter only 1, 2 or 3')\n",
    "#     return finalPlot"
   ]
  },
  {
   "cell_type": "code",
   "execution_count": 104,
   "id": "3342bcd4",
   "metadata": {},
   "outputs": [],
   "source": [
    "def plotter2(plot):\n",
    "    print('Enter no of columns you want to plot')\n",
    "    ncol = int(input())\n",
    "    arr = [0 for i in range(ncol)]\n",
    "    print('Enter the columns you want from DataFrame')\n",
    "    for i in range(ncol):\n",
    "        print(i,' Column')\n",
    "        arr[i] = input()\n",
    "    if(plot==1):\n",
    "        finalPlot = df1[arr].iplot(kind='scatter')\n",
    "    elif(plot==2):\n",
    "            finalPlot = df1[arr].iplot(kind='scatter', mode='markers',colorscale='paired')\n",
    "    elif(plot==3):\n",
    "        finalPlot = df1[arr].iplot(kind='bar')\n",
    "    elif(plot==4):\n",
    "        finalPlot = df1[arr].iplot(kind='hist')\n",
    "    elif(plot==5):\n",
    "        finalPlot = df1[arr].iplot(kind='box')\n",
    "    elif(plot==6):\n",
    "        finalPlot = df1[arr].iplot(kind='surface')\n",
    "    elif(plot==7):\n",
    "        size = input('Please enter the size column for bubble plot')\n",
    "        if ncol==1:\n",
    "            finalPlot = print('Bubble Plot not possible for si')\n",
    "        elif ncol==2:\n",
    "            finalPlot = df1.iplot(kind='bubble',x=arr[0],y=arr[1],size=size)\n",
    "        elif ncol==3:\n",
    "            finalPlot = df1.iplot(kind='bubble',x=arr[0],y=arr[1],z=arr[2],size=size)\n",
    "        else:\n",
    "            finalPlot = print('Bubble plot feature to select no of columns is up to 3. So, please select 1, 2 or 3')\n",
    "    else:\n",
    "        finalPlot = print('Select type of plot only between 1 to 7')\n"
   ]
  },
  {
   "cell_type": "code",
   "execution_count": 105,
   "id": "c1daf696",
   "metadata": {},
   "outputs": [],
   "source": [
    "def main(cat):\n",
    "    if(cat==1):\n",
    "        print('Select the type of plot you require by writing 1 tot 6')\n",
    "        print('1. Line Plot')\n",
    "        print('2. Scatter Plot')\n",
    "        print('3. Bar Plot')\n",
    "        print('4. Histogram')\n",
    "        print('5. Box Plot')\n",
    "        print('6. Surface Plot')\n",
    "        plot = int(input())\n",
    "        output = plotter(plot)\n",
    "        \n",
    "    elif(cat==2):\n",
    "        print('Select the type of plot you require by writing 1 tot 7')\n",
    "        print('1. Line Plot')\n",
    "        print('2. Scatter Plot')\n",
    "        print('3. Bar Plot')\n",
    "        print('4. Histogram')\n",
    "        print('5. Box Plot')\n",
    "        print('6. Surface Plot')\n",
    "        print('7. Bubble Plot')\n",
    "        plot = int(input())\n",
    "        output = plotter2(plot)\n",
    "    else:\n",
    "        print('Please enter 1 or 2 and try again!')"
   ]
  },
  {
   "cell_type": "code",
   "execution_count": 106,
   "id": "c35e1cd4",
   "metadata": {},
   "outputs": [
    {
     "name": "stdout",
     "output_type": "stream",
     "text": [
      "Select the type of data you need to plot (By writing 1,2 or 3)\n",
      "1. Random data with given no of rows and columns\n",
      "2. Customize dataframe with given no of rows and columns\n",
      "3. Upload csv/json/txt file\n",
      "1\n",
      "Enter no of rows you want\n",
      "3\n",
      "Enter no of columns you want\n",
      "3\n",
      "Please give Column 0 name\n",
      "A\n",
      "Please give Column 1 name\n",
      "B\n",
      "Please give Column 2 name\n",
      "C\n"
     ]
    }
   ],
   "source": [
    "print('Select the type of data you need to plot (By writing 1,2 or 3)')\n",
    "print('1. Random data with given no of rows and columns')\n",
    "print('2. Customize dataframe with given no of rows and columns')\n",
    "print('3. Upload csv/json/txt file')\n",
    "data = int(input())\n",
    "df1 = createData(data)"
   ]
  },
  {
   "cell_type": "code",
   "execution_count": 107,
   "id": "a89ecff8",
   "metadata": {},
   "outputs": [
    {
     "name": "stdout",
     "output_type": "stream",
     "text": [
      "Your dataframe is given below check the columns to plot\n"
     ]
    },
    {
     "data": {
      "text/html": [
       "<div>\n",
       "<style scoped>\n",
       "    .dataframe tbody tr th:only-of-type {\n",
       "        vertical-align: middle;\n",
       "    }\n",
       "\n",
       "    .dataframe tbody tr th {\n",
       "        vertical-align: top;\n",
       "    }\n",
       "\n",
       "    .dataframe thead th {\n",
       "        text-align: right;\n",
       "    }\n",
       "</style>\n",
       "<table border=\"1\" class=\"dataframe\">\n",
       "  <thead>\n",
       "    <tr style=\"text-align: right;\">\n",
       "      <th></th>\n",
       "      <th>A</th>\n",
       "      <th>B</th>\n",
       "      <th>C</th>\n",
       "    </tr>\n",
       "  </thead>\n",
       "  <tbody>\n",
       "    <tr>\n",
       "      <th>0</th>\n",
       "      <td>0.036270</td>\n",
       "      <td>0.707853</td>\n",
       "      <td>0.999315</td>\n",
       "    </tr>\n",
       "    <tr>\n",
       "      <th>1</th>\n",
       "      <td>0.922564</td>\n",
       "      <td>0.374618</td>\n",
       "      <td>0.323478</td>\n",
       "    </tr>\n",
       "    <tr>\n",
       "      <th>2</th>\n",
       "      <td>0.399382</td>\n",
       "      <td>0.037568</td>\n",
       "      <td>0.835112</td>\n",
       "    </tr>\n",
       "  </tbody>\n",
       "</table>\n",
       "</div>"
      ],
      "text/plain": [
       "          A         B         C\n",
       "0  0.036270  0.707853  0.999315\n",
       "1  0.922564  0.374618  0.323478\n",
       "2  0.399382  0.037568  0.835112"
      ]
     },
     "execution_count": 107,
     "metadata": {},
     "output_type": "execute_result"
    }
   ],
   "source": [
    "print('Your dataframe is given below check the columns to plot')\n",
    "df1.head()"
   ]
  },
  {
   "cell_type": "code",
   "execution_count": 108,
   "id": "612be634",
   "metadata": {},
   "outputs": [
    {
     "name": "stdout",
     "output_type": "stream",
     "text": [
      "What kind of plot required, a complete data plot or columns plot\n",
      "Press 1 for plotting all columns or press 2 for specifying columns to plot2\n"
     ]
    }
   ],
   "source": [
    "print('What kind of plot required, a complete data plot or columns plot')\n",
    "cat = input('Press 1 for plotting all columns or press 2 for specifying columns to plot')\n",
    "cat = int(cat)"
   ]
  },
  {
   "cell_type": "code",
   "execution_count": 110,
   "id": "6bc141e5",
   "metadata": {},
   "outputs": [
    {
     "name": "stdout",
     "output_type": "stream",
     "text": [
      "Select the type of plot you require by writing 1 tot 7\n",
      "1. Line Plot\n",
      "2. Scatter Plot\n",
      "3. Bar Plot\n",
      "4. Histogram\n",
      "5. Box Plot\n",
      "6. Surface Plot\n",
      "7. Bubble Plot\n",
      "7\n",
      "Enter no of columns you want to plot\n",
      "1\n",
      "Enter the columns you want from DataFrame\n",
      "0  Column\n",
      "A\n",
      "Please enter the size column for bubble plotB\n"
     ]
    },
    {
     "ename": "KeyError",
     "evalue": "''",
     "output_type": "error",
     "traceback": [
      "\u001b[1;31m---------------------------------------------------------------------------\u001b[0m",
      "\u001b[1;31mKeyError\u001b[0m                                  Traceback (most recent call last)",
      "File \u001b[1;32m~\\AppData\\Roaming\\Python\\Python39\\site-packages\\pandas\\core\\indexes\\base.py:3621\u001b[0m, in \u001b[0;36mIndex.get_loc\u001b[1;34m(self, key, method, tolerance)\u001b[0m\n\u001b[0;32m   3620\u001b[0m \u001b[38;5;28;01mtry\u001b[39;00m:\n\u001b[1;32m-> 3621\u001b[0m     \u001b[38;5;28;01mreturn\u001b[39;00m \u001b[38;5;28;43mself\u001b[39;49m\u001b[38;5;241;43m.\u001b[39;49m\u001b[43m_engine\u001b[49m\u001b[38;5;241;43m.\u001b[39;49m\u001b[43mget_loc\u001b[49m\u001b[43m(\u001b[49m\u001b[43mcasted_key\u001b[49m\u001b[43m)\u001b[49m\n\u001b[0;32m   3622\u001b[0m \u001b[38;5;28;01mexcept\u001b[39;00m \u001b[38;5;167;01mKeyError\u001b[39;00m \u001b[38;5;28;01mas\u001b[39;00m err:\n",
      "File \u001b[1;32m~\\AppData\\Roaming\\Python\\Python39\\site-packages\\pandas\\_libs\\index.pyx:136\u001b[0m, in \u001b[0;36mpandas._libs.index.IndexEngine.get_loc\u001b[1;34m()\u001b[0m\n",
      "File \u001b[1;32m~\\AppData\\Roaming\\Python\\Python39\\site-packages\\pandas\\_libs\\index.pyx:163\u001b[0m, in \u001b[0;36mpandas._libs.index.IndexEngine.get_loc\u001b[1;34m()\u001b[0m\n",
      "File \u001b[1;32mpandas\\_libs\\hashtable_class_helper.pxi:5198\u001b[0m, in \u001b[0;36mpandas._libs.hashtable.PyObjectHashTable.get_item\u001b[1;34m()\u001b[0m\n",
      "File \u001b[1;32mpandas\\_libs\\hashtable_class_helper.pxi:5206\u001b[0m, in \u001b[0;36mpandas._libs.hashtable.PyObjectHashTable.get_item\u001b[1;34m()\u001b[0m\n",
      "\u001b[1;31mKeyError\u001b[0m: ''",
      "\nThe above exception was the direct cause of the following exception:\n",
      "\u001b[1;31mKeyError\u001b[0m                                  Traceback (most recent call last)",
      "Cell \u001b[1;32mIn[110], line 1\u001b[0m\n\u001b[1;32m----> 1\u001b[0m \u001b[43mmain\u001b[49m\u001b[43m(\u001b[49m\u001b[43mcat\u001b[49m\u001b[43m)\u001b[49m\n",
      "Cell \u001b[1;32mIn[105], line 23\u001b[0m, in \u001b[0;36mmain\u001b[1;34m(cat)\u001b[0m\n\u001b[0;32m     21\u001b[0m     \u001b[38;5;28mprint\u001b[39m(\u001b[38;5;124m'\u001b[39m\u001b[38;5;124m7. Bubble Plot\u001b[39m\u001b[38;5;124m'\u001b[39m)\n\u001b[0;32m     22\u001b[0m     plot \u001b[38;5;241m=\u001b[39m \u001b[38;5;28mint\u001b[39m(\u001b[38;5;28minput\u001b[39m())\n\u001b[1;32m---> 23\u001b[0m     output \u001b[38;5;241m=\u001b[39m \u001b[43mplotter2\u001b[49m\u001b[43m(\u001b[49m\u001b[43mplot\u001b[49m\u001b[43m)\u001b[49m\n\u001b[0;32m     24\u001b[0m \u001b[38;5;28;01melse\u001b[39;00m:\n\u001b[0;32m     25\u001b[0m     \u001b[38;5;28mprint\u001b[39m(\u001b[38;5;124m'\u001b[39m\u001b[38;5;124mPlease enter 1 or 2 and try again!\u001b[39m\u001b[38;5;124m'\u001b[39m)\n",
      "Cell \u001b[1;32mIn[104], line 24\u001b[0m, in \u001b[0;36mplotter2\u001b[1;34m(plot)\u001b[0m\n\u001b[0;32m     22\u001b[0m size \u001b[38;5;241m=\u001b[39m \u001b[38;5;28minput\u001b[39m(\u001b[38;5;124m'\u001b[39m\u001b[38;5;124mPlease enter the size column for bubble plot\u001b[39m\u001b[38;5;124m'\u001b[39m)\n\u001b[0;32m     23\u001b[0m \u001b[38;5;28;01mif\u001b[39;00m ncol\u001b[38;5;241m==\u001b[39m\u001b[38;5;241m1\u001b[39m:\n\u001b[1;32m---> 24\u001b[0m     finalPlot \u001b[38;5;241m=\u001b[39m \u001b[43mdf1\u001b[49m\u001b[38;5;241;43m.\u001b[39;49m\u001b[43miplot\u001b[49m\u001b[43m(\u001b[49m\u001b[43mkind\u001b[49m\u001b[38;5;241;43m=\u001b[39;49m\u001b[38;5;124;43m'\u001b[39;49m\u001b[38;5;124;43mbubble\u001b[39;49m\u001b[38;5;124;43m'\u001b[39;49m\u001b[43m,\u001b[49m\u001b[43mx\u001b[49m\u001b[38;5;241;43m=\u001b[39;49m\u001b[43marr\u001b[49m\u001b[43m[\u001b[49m\u001b[38;5;241;43m0\u001b[39;49m\u001b[43m]\u001b[49m\u001b[43m,\u001b[49m\u001b[43msize\u001b[49m\u001b[38;5;241;43m=\u001b[39;49m\u001b[43msize\u001b[49m\u001b[43m)\u001b[49m\n\u001b[0;32m     25\u001b[0m \u001b[38;5;28;01melif\u001b[39;00m ncol\u001b[38;5;241m==\u001b[39m\u001b[38;5;241m2\u001b[39m:\n\u001b[0;32m     26\u001b[0m     finalPlot \u001b[38;5;241m=\u001b[39m df1\u001b[38;5;241m.\u001b[39miplot(kind\u001b[38;5;241m=\u001b[39m\u001b[38;5;124m'\u001b[39m\u001b[38;5;124mbubble\u001b[39m\u001b[38;5;124m'\u001b[39m,x\u001b[38;5;241m=\u001b[39marr[\u001b[38;5;241m0\u001b[39m],y\u001b[38;5;241m=\u001b[39marr[\u001b[38;5;241m1\u001b[39m],size\u001b[38;5;241m=\u001b[39msize)\n",
      "File \u001b[1;32m~\\AppData\\Roaming\\Python\\Python39\\site-packages\\cufflinks\\plotlytools.py:879\u001b[0m, in \u001b[0;36m_iplot\u001b[1;34m(self, kind, data, layout, filename, sharing, title, xTitle, yTitle, zTitle, theme, colors, colorscale, fill, width, dash, mode, interpolation, symbol, size, barmode, sortbars, bargap, bargroupgap, bins, histnorm, histfunc, orientation, boxpoints, annotations, keys, bestfit, bestfit_colors, mean, mean_colors, categories, x, y, z, text, gridcolor, zerolinecolor, margin, labels, values, secondary_y, secondary_y_title, subplots, shape, error_x, error_y, error_type, locations, lon, lat, asFrame, asDates, asFigure, asImage, dimensions, asPlot, asUrl, online, **kwargs)\u001b[0m\n\u001b[0;32m    877\u001b[0m mode\u001b[38;5;241m=\u001b[39m\u001b[38;5;124m'\u001b[39m\u001b[38;5;124mmarkers\u001b[39m\u001b[38;5;124m'\u001b[39m \u001b[38;5;28;01mif\u001b[39;00m \u001b[38;5;124m'\u001b[39m\u001b[38;5;124mmarkers\u001b[39m\u001b[38;5;124m'\u001b[39m \u001b[38;5;129;01mnot\u001b[39;00m \u001b[38;5;129;01min\u001b[39;00m mode \u001b[38;5;28;01melse\u001b[39;00m mode \n\u001b[0;32m    878\u001b[0m x\u001b[38;5;241m=\u001b[39m\u001b[38;5;28mself\u001b[39m[x]\u001b[38;5;241m.\u001b[39mvalues\u001b[38;5;241m.\u001b[39mtolist()\n\u001b[1;32m--> 879\u001b[0m y\u001b[38;5;241m=\u001b[39m\u001b[38;5;28;43mself\u001b[39;49m\u001b[43m[\u001b[49m\u001b[43my\u001b[49m\u001b[43m]\u001b[49m\u001b[38;5;241m.\u001b[39mvalues\u001b[38;5;241m.\u001b[39mtolist()\n\u001b[0;32m    880\u001b[0m z\u001b[38;5;241m=\u001b[39msize \u001b[38;5;28;01mif\u001b[39;00m size \u001b[38;5;28;01melse\u001b[39;00m z\n\u001b[0;32m    881\u001b[0m rg\u001b[38;5;241m=\u001b[39m\u001b[38;5;28mself\u001b[39m[z]\u001b[38;5;241m.\u001b[39mvalues\n",
      "File \u001b[1;32m~\\AppData\\Roaming\\Python\\Python39\\site-packages\\pandas\\core\\frame.py:3505\u001b[0m, in \u001b[0;36mDataFrame.__getitem__\u001b[1;34m(self, key)\u001b[0m\n\u001b[0;32m   3503\u001b[0m \u001b[38;5;28;01mif\u001b[39;00m \u001b[38;5;28mself\u001b[39m\u001b[38;5;241m.\u001b[39mcolumns\u001b[38;5;241m.\u001b[39mnlevels \u001b[38;5;241m>\u001b[39m \u001b[38;5;241m1\u001b[39m:\n\u001b[0;32m   3504\u001b[0m     \u001b[38;5;28;01mreturn\u001b[39;00m \u001b[38;5;28mself\u001b[39m\u001b[38;5;241m.\u001b[39m_getitem_multilevel(key)\n\u001b[1;32m-> 3505\u001b[0m indexer \u001b[38;5;241m=\u001b[39m \u001b[38;5;28;43mself\u001b[39;49m\u001b[38;5;241;43m.\u001b[39;49m\u001b[43mcolumns\u001b[49m\u001b[38;5;241;43m.\u001b[39;49m\u001b[43mget_loc\u001b[49m\u001b[43m(\u001b[49m\u001b[43mkey\u001b[49m\u001b[43m)\u001b[49m\n\u001b[0;32m   3506\u001b[0m \u001b[38;5;28;01mif\u001b[39;00m is_integer(indexer):\n\u001b[0;32m   3507\u001b[0m     indexer \u001b[38;5;241m=\u001b[39m [indexer]\n",
      "File \u001b[1;32m~\\AppData\\Roaming\\Python\\Python39\\site-packages\\pandas\\core\\indexes\\base.py:3623\u001b[0m, in \u001b[0;36mIndex.get_loc\u001b[1;34m(self, key, method, tolerance)\u001b[0m\n\u001b[0;32m   3621\u001b[0m     \u001b[38;5;28;01mreturn\u001b[39;00m \u001b[38;5;28mself\u001b[39m\u001b[38;5;241m.\u001b[39m_engine\u001b[38;5;241m.\u001b[39mget_loc(casted_key)\n\u001b[0;32m   3622\u001b[0m \u001b[38;5;28;01mexcept\u001b[39;00m \u001b[38;5;167;01mKeyError\u001b[39;00m \u001b[38;5;28;01mas\u001b[39;00m err:\n\u001b[1;32m-> 3623\u001b[0m     \u001b[38;5;28;01mraise\u001b[39;00m \u001b[38;5;167;01mKeyError\u001b[39;00m(key) \u001b[38;5;28;01mfrom\u001b[39;00m \u001b[38;5;21;01merr\u001b[39;00m\n\u001b[0;32m   3624\u001b[0m \u001b[38;5;28;01mexcept\u001b[39;00m \u001b[38;5;167;01mTypeError\u001b[39;00m:\n\u001b[0;32m   3625\u001b[0m     \u001b[38;5;66;03m# If we have a listlike key, _check_indexing_error will raise\u001b[39;00m\n\u001b[0;32m   3626\u001b[0m     \u001b[38;5;66;03m#  InvalidIndexError. Otherwise we fall through and re-raise\u001b[39;00m\n\u001b[0;32m   3627\u001b[0m     \u001b[38;5;66;03m#  the TypeError.\u001b[39;00m\n\u001b[0;32m   3628\u001b[0m     \u001b[38;5;28mself\u001b[39m\u001b[38;5;241m.\u001b[39m_check_indexing_error(key)\n",
      "\u001b[1;31mKeyError\u001b[0m: ''"
     ]
    }
   ],
   "source": [
    "main(cat)"
   ]
  },
  {
   "cell_type": "code",
   "execution_count": null,
   "id": "dd51bcb0",
   "metadata": {},
   "outputs": [],
   "source": []
  }
 ],
 "metadata": {
  "kernelspec": {
   "display_name": "Python 3 (ipykernel)",
   "language": "python",
   "name": "python3"
  },
  "language_info": {
   "codemirror_mode": {
    "name": "ipython",
    "version": 3
   },
   "file_extension": ".py",
   "mimetype": "text/x-python",
   "name": "python",
   "nbconvert_exporter": "python",
   "pygments_lexer": "ipython3",
   "version": "3.9.12"
  }
 },
 "nbformat": 4,
 "nbformat_minor": 5
}
